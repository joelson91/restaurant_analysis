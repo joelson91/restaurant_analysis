{
 "cells": [
  {
   "cell_type": "markdown",
   "id": "1ecd4d43-a76b-4e48-bbe7-ac9a1c985892",
   "metadata": {},
   "source": [
    "# Restarant Orders Analysis\n",
    "\n",
    "## Sobre este dataset\n",
    "\n",
    "O conjunto de dados contém 1.000 pedidos de um restaurante, com informações sobre clientes, itens, categorias, quantidades, preços, métodos de pagamento e horários dos pedidos."
   ]
  },
  {
   "cell_type": "markdown",
   "id": "e44b8b1c-da42-47ea-8984-83c69c937398",
   "metadata": {},
   "source": [
    "## Configuração inicial"
   ]
  },
  {
   "cell_type": "code",
   "execution_count": null,
   "id": "21f81866-fe46-42df-9065-a0c80b84217f",
   "metadata": {},
   "outputs": [],
   "source": [
    "# Importando bibliotecas\n",
    "import pandas as pd\n",
    "\n",
    "# Carregando dataset\n",
    "df = pd.read_csv('restaurant_orders.csv')"
   ]
  },
  {
   "cell_type": "markdown",
   "id": "6146ff2d-5ab6-4cdb-986b-6d60cbc16b84",
   "metadata": {},
   "source": [
    "Visualização prévia dos dados"
   ]
  },
  {
   "cell_type": "code",
   "execution_count": null,
   "id": "c9c22d13-a287-48b4-bf9b-2ee61482c76a",
   "metadata": {},
   "outputs": [],
   "source": [
    "# Visualização prévia dos dados\n",
    "df.head()"
   ]
  },
  {
   "cell_type": "markdown",
   "id": "cb86716b-a13b-4fcb-9f9d-de78dc4a085f",
   "metadata": {},
   "source": [
    "## Limpeza de dados"
   ]
  },
  {
   "cell_type": "markdown",
   "id": "edc3b9bf-7d41-49cd-8596-f8aacc3f5383",
   "metadata": {},
   "source": [
    "Informações básicas sobre o dataframe"
   ]
  },
  {
   "cell_type": "code",
   "execution_count": null,
   "id": "fca32338-03ee-40da-bdd9-b86ea1067c33",
   "metadata": {},
   "outputs": [],
   "source": [
    "# Informações sobre o dataframe\n",
    "df.info()"
   ]
  },
  {
   "cell_type": "markdown",
   "id": "e7a3daa3-e368-4176-8ade-07f0e877e7fe",
   "metadata": {},
   "source": [
    "Verificando valores ausentes"
   ]
  },
  {
   "cell_type": "code",
   "execution_count": null,
   "id": "6b7f624c-2c2e-4023-91bf-0f04ce499ddd",
   "metadata": {},
   "outputs": [],
   "source": [
    "# Contagem de valores nulos\n",
    "df.isna().sum()"
   ]
  },
  {
   "cell_type": "markdown",
   "id": "eaba21ee-b289-4a62-8d2e-47775beaea19",
   "metadata": {},
   "source": [
    "Verificando tipagem dos dados"
   ]
  },
  {
   "cell_type": "code",
   "execution_count": null,
   "id": "50e1cf31-10b7-4732-a4ea-387b131b44bd",
   "metadata": {},
   "outputs": [],
   "source": [
    "# Tipagem de dados\n",
    "df.dtypes"
   ]
  },
  {
   "cell_type": "markdown",
   "id": "5165a160-3880-4be5-848e-a9a2bd0aaf9d",
   "metadata": {},
   "source": [
    "Ajustando colunas categóricas"
   ]
  },
  {
   "cell_type": "code",
   "execution_count": null,
   "id": "2768a876-9c50-4135-8e87-9d6c31d792cf",
   "metadata": {},
   "outputs": [],
   "source": [
    "# Lista de colunas categóricas\n",
    "category_columns = ['Food Item', 'Category', 'Payment Method']\n",
    "\n",
    "# Ajustando colunas para o tipo category\n",
    "df[category_columns] = df[category_columns].astype('category')"
   ]
  },
  {
   "cell_type": "markdown",
   "id": "050eb09d-f00b-4087-ac31-8b450603d0f8",
   "metadata": {},
   "source": [
    "Ajustando coluna Order Time"
   ]
  },
  {
   "cell_type": "code",
   "execution_count": null,
   "id": "042d66cf-7ab6-42b0-971f-469f30d03577",
   "metadata": {},
   "outputs": [],
   "source": [
    "# Ajustando coluna Order Time para Datetime\n",
    "df['Order Time'] = pd.to_datetime(df['Order Time'])"
   ]
  },
  {
   "cell_type": "markdown",
   "id": "fc34f7f5-a41c-4cfc-83be-9fde427dd855",
   "metadata": {},
   "source": [
    "Verificando novamente a tipagem dos dados"
   ]
  },
  {
   "cell_type": "code",
   "execution_count": null,
   "id": "bdba9436-61e4-416d-bc53-be5d3e0e5444",
   "metadata": {},
   "outputs": [],
   "source": [
    "# Tipagem dos dados\n",
    "df.dtypes"
   ]
  },
  {
   "cell_type": "markdown",
   "id": "7cfb924d-0519-45ed-a1cf-bf22325bbdbe",
   "metadata": {},
   "source": [
    "## Análise exploratória dos dados\n",
    "\n",
    "Para esta análise, será necessário incluir os seguintes campos:\n",
    "- Billing\n",
    "- Day of Week\n",
    "- Day\n",
    "- Month\n",
    "- Year"
   ]
  },
  {
   "cell_type": "code",
   "execution_count": null,
   "id": "18efb18d-9690-4665-9cf6-a7781b3eb8c2",
   "metadata": {
    "jupyter": {
     "source_hidden": true
    }
   },
   "outputs": [],
   "source": [
    "# Adicionando o coluna Billing\n",
    "df['Billing'] = df['Price'] * df['Quantity']\n",
    "\n",
    "# Adicionando o coluna Day Week\n",
    "df['Day Week'] = df['Order Time'].dt.day_name()\n",
    "\n",
    "# Adicionando o coluna Day\n",
    "df['Day'] = df['Order Time'].dt.day\n",
    "\n",
    "# Adicionando o coluna Month\n",
    "df['Month'] = df['Order Time'].dt.month\n",
    "\n",
    "# Adicionando o coluna Year\n",
    "df['Year'] = df['Order Time'].dt.year"
   ]
  },
  {
   "cell_type": "code",
   "execution_count": null,
   "id": "1218d369-a3a3-4399-90e9-5e8d9b94b9d7",
   "metadata": {},
   "outputs": [],
   "source": [
    "df.head()"
   ]
  },
  {
   "cell_type": "markdown",
   "id": "a847990b-4307-4d89-aa82-4d0f6a942a2e",
   "metadata": {},
   "source": [
    "### Análise por categoria"
   ]
  },
  {
   "cell_type": "markdown",
   "id": "31435131-58f5-4b77-a0a3-dc883112621e",
   "metadata": {},
   "source": [
    "#### Distribuição de pedidos por categoria"
   ]
  },
  {
   "cell_type": "code",
   "execution_count": null,
   "id": "e5d008fb-ab03-46f4-86d4-a84b5963a31f",
   "metadata": {
    "jupyter": {
     "source_hidden": true
    }
   },
   "outputs": [],
   "source": [
    "# Quantidade de pedidos por categoria\n",
    "category_count = df['Category'].value_counts()\n",
    "\n",
    "# Gráfico de setores com percentual de cada categoria\n",
    "category_count.plot(\n",
    "    kind='pie',\n",
    "    autopct='%.1f%%',\n",
    "    startangle=90,\n",
    "    counterclock=False,\n",
    "    ylabel='',\n",
    "    legend=False\n",
    ");"
   ]
  },
  {
   "cell_type": "markdown",
   "id": "0da4e499-243a-4257-ae7c-0887b9b69529",
   "metadata": {},
   "source": [
    "A categoria **Dessert** possui o maior número de pedidos."
   ]
  },
  {
   "cell_type": "markdown",
   "id": "a3072060-d7cb-428e-a5ea-49ad4983c778",
   "metadata": {},
   "source": [
    "#### Faturamento por categoria"
   ]
  },
  {
   "cell_type": "code",
   "execution_count": null,
   "id": "803e83b3-bcb7-4100-af39-f35a2f83808c",
   "metadata": {},
   "outputs": [],
   "source": [
    "# Faturamento por categoria\n",
    "billing_category = df.groupby('Category', observed=True)['Billing'].sum()\n",
    "\n",
    "# Gráfico de setores com percentual de cada categoria\n",
    "billing_category.plot(\n",
    "    kind='pie',\n",
    "    autopct='%.1f%%',\n",
    "    startangle=90,\n",
    "    counterclock=False,\n",
    "    ylabel='',\n",
    "    legend=False\n",
    ");"
   ]
  },
  {
   "cell_type": "markdown",
   "id": "cb45b7a6-1dd1-42c4-91dd-9d1144f4aa61",
   "metadata": {},
   "source": [
    "A categoria **Main** possui o maior faturamento."
   ]
  },
  {
   "cell_type": "markdown",
   "id": "b958a03a-0bd0-4f8f-bbb1-259dfa9bd88d",
   "metadata": {},
   "source": [
    "#### Método de Pagamento por categoria"
   ]
  },
  {
   "cell_type": "code",
   "execution_count": null,
   "id": "b7b5eee8-2f3c-45fc-9c30-995f6e93228d",
   "metadata": {
    "jupyter": {
     "source_hidden": true
    }
   },
   "outputs": [],
   "source": [
    "# Quantidade de pedidos por Método de Pagamento\n",
    "category_count = df['Payment Method'].value_counts()\n",
    "\n",
    "# Gráfico de setores com percentual de cada categoria\n",
    "category_count.plot(\n",
    "    kind='pie',\n",
    "    autopct='%.1f%%',\n",
    "    startangle=90,\n",
    "    counterclock=False,\n",
    "    ylabel='',\n",
    "    legend=False\n",
    ");"
   ]
  },
  {
   "cell_type": "markdown",
   "id": "07b530e7-6fa3-432a-a8a4-6b59727ea729",
   "metadata": {},
   "source": [
    "**Cash** é o principal método de pagamento."
   ]
  },
  {
   "cell_type": "markdown",
   "id": "614d2f57-c040-4f63-9ca8-9ef0ea2e0ab5",
   "metadata": {},
   "source": [
    "### Análise financeira"
   ]
  },
  {
   "cell_type": "markdown",
   "id": "b9846120-2ffc-4150-b5b5-bb359fd39650",
   "metadata": {},
   "source": [
    "Estatísticas de preço"
   ]
  },
  {
   "cell_type": "code",
   "execution_count": null,
   "id": "1b768f9a-f364-443a-8890-cee20038ae0c",
   "metadata": {
    "jupyter": {
     "source_hidden": true
    }
   },
   "outputs": [],
   "source": [
    "# Estatísticas de preço\n",
    "df['Price'].agg([\"mean\",\"min\",\"max\"]).round(2)"
   ]
  },
  {
   "cell_type": "code",
   "execution_count": null,
   "id": "3f06a3e4-fb9e-46f9-8377-7ebc3a912520",
   "metadata": {},
   "outputs": [],
   "source": []
  }
 ],
 "metadata": {
  "kernelspec": {
   "display_name": "Python 3 (ipykernel)",
   "language": "python",
   "name": "python3"
  },
  "language_info": {
   "codemirror_mode": {
    "name": "ipython",
    "version": 3
   },
   "file_extension": ".py",
   "mimetype": "text/x-python",
   "name": "python",
   "nbconvert_exporter": "python",
   "pygments_lexer": "ipython3",
   "version": "3.12.3"
  }
 },
 "nbformat": 4,
 "nbformat_minor": 5
}
